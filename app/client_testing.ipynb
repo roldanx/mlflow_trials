{
 "cells": [
  {
   "cell_type": "code",
   "execution_count": 1,
   "id": "265696d5-971c-46ac-8c29-2295e06fe6d8",
   "metadata": {},
   "outputs": [
    {
     "name": "stderr",
     "output_type": "stream",
     "text": [
      "/home/roldanx/.local/lib/python3.6/site-packages/ipykernel_launcher.py:1: FutureWarning: MLflow support for Python 3.6 is deprecated and will be dropped in an upcoming release. At that point, existing Python 3.6 workflows that use MLflow will continue to work without modification, but Python 3.6 users will no longer get access to the latest MLflow features and bugfixes. We recommend that you upgrade to Python 3.7 or newer.\n",
      "  \"\"\"Entry point for launching an IPython kernel.\n"
     ]
    }
   ],
   "source": [
    "import mlflow\n",
    "mlflow.set_tracking_uri('http://localhost:8000/')"
   ]
  },
  {
   "cell_type": "code",
   "execution_count": 2,
   "id": "147a44e9-8887-4357-9d52-609dafa75da5",
   "metadata": {},
   "outputs": [],
   "source": [
    "client = mlflow.tracking.MlflowClient(registry_uri='http://localhost:8000/')"
   ]
  },
  {
   "cell_type": "code",
   "execution_count": 3,
   "id": "38a3c3e6-6558-44bc-8a94-b7f73de2dba7",
   "metadata": {},
   "outputs": [],
   "source": [
    "experiments = client.list_experiments()"
   ]
  },
  {
   "cell_type": "code",
   "execution_count": 4,
   "id": "4594b1cf-248c-4992-bde7-40301bfa6d41",
   "metadata": {},
   "outputs": [
    {
     "data": {
      "text/plain": [
       "[<Experiment: artifact_location='/home/roldanx/code/tfm/mlruns/0', experiment_id='0', lifecycle_stage='active', name='Default', tags={}>,\n",
       " <Experiment: artifact_location='/home/roldanx/code/tfm/mlruns/1', experiment_id='1', lifecycle_stage='active', name='TreeClassifier', tags={}>,\n",
       " <Experiment: artifact_location='/home/roldanx/code/tfm/mlruns/2', experiment_id='2', lifecycle_stage='active', name='NeuralNetwork', tags={}>]"
      ]
     },
     "execution_count": 4,
     "metadata": {},
     "output_type": "execute_result"
    }
   ],
   "source": [
    "experiments"
   ]
  },
  {
   "cell_type": "code",
   "execution_count": 5,
   "id": "b9d79498-fa06-46dc-bb81-24673d1ef833",
   "metadata": {},
   "outputs": [
    {
     "data": {
      "text/plain": [
       "<Experiment: artifact_location='/home/roldanx/code/tfm/mlruns/1', experiment_id='1', lifecycle_stage='active', name='TreeClassifier', tags={}>"
      ]
     },
     "execution_count": 5,
     "metadata": {},
     "output_type": "execute_result"
    }
   ],
   "source": [
    "experiments[1]"
   ]
  },
  {
   "cell_type": "code",
   "execution_count": 6,
   "id": "84fd64f8-9888-475f-9e3e-e8156592450c",
   "metadata": {},
   "outputs": [],
   "source": [
    "experiment = client.search_runs([1])"
   ]
  },
  {
   "cell_type": "code",
   "execution_count": 7,
   "id": "3ad3f080-4c2e-4a1a-92b5-4b9af217e08c",
   "metadata": {},
   "outputs": [
    {
     "data": {
      "text/plain": [
       "<Run: data=<RunData: metrics={'accuracy': 0.8021015761821366}, params={'max_depth': '3'}, tags={'mlflow.log-model.history': '[{\"run_id\": \"6d633e4d3ef64fdeb563ecc10b64caac\", '\n",
       "                             '\"artifact_path\": \"\", \"utc_time_created\": '\n",
       "                             '\"2022-03-16 17:43:34.836584\", \"flavors\": '\n",
       "                             '{\"python_function\": {\"model_path\": \"model.pkl\", '\n",
       "                             '\"loader_module\": \"mlflow.sklearn\", '\n",
       "                             '\"python_version\": \"3.9.10\", \"env\": '\n",
       "                             '\"conda.yaml\"}, \"sklearn\": {\"pickled_model\": '\n",
       "                             '\"model.pkl\", \"sklearn_version\": \"1.0.2\", '\n",
       "                             '\"serialization_format\": \"cloudpickle\"}}, '\n",
       "                             '\"model_uuid\": '\n",
       "                             '\"0dc77b826bd1467d97214e3584574e42\"}]',\n",
       " 'mlflow.runName': 'blade_runner',\n",
       " 'mlflow.source.name': 'decision-tree-classifier.py',\n",
       " 'mlflow.source.type': 'LOCAL',\n",
       " 'mlflow.user': 'root'}>, info=<RunInfo: artifact_uri='/home/roldanx/code/tfm/mlruns/1/6d633e4d3ef64fdeb563ecc10b64caac/artifacts', end_time=1647452617153, experiment_id='1', lifecycle_stage='active', run_id='6d633e4d3ef64fdeb563ecc10b64caac', run_uuid='6d633e4d3ef64fdeb563ecc10b64caac', start_time=1647452614115, status='FINISHED', user_id='root'>>"
      ]
     },
     "execution_count": 7,
     "metadata": {},
     "output_type": "execute_result"
    }
   ],
   "source": [
    "experiment[0]"
   ]
  },
  {
   "cell_type": "code",
   "execution_count": 8,
   "id": "8aab7a7f-cba9-48a2-a309-7147b897c6dc",
   "metadata": {},
   "outputs": [
    {
     "data": {
      "text/plain": [
       "[<RegisteredModel: creation_timestamp=1648648690310, description='', last_updated_timestamp=1648648690337, latest_versions=[<ModelVersion: creation_timestamp=1648648690337, current_stage='None', description='', last_updated_timestamp=1648648690337, name='neural_network', run_id='fb2add16c72b4615ade8a7a54ea738ba', run_link='', source='/home/roldanx/code/tfm/mlruns/2/fb2add16c72b4615ade8a7a54ea738ba/artifacts', status='READY', status_message='', tags={}, user_id='', version='1'>], name='neural_network', tags={}>,\n",
       " <RegisteredModel: creation_timestamp=1647001053970, description='', last_updated_timestamp=1647452767548, latest_versions=[<ModelVersion: creation_timestamp=1647025773586, current_stage='None', description='', last_updated_timestamp=1647025773586, name='tree_model', run_id='078af40dbc33455f8b62e0eb6d01b838', run_link='', source='/home/roldanx/code/tfm/mlruns/1/078af40dbc33455f8b62e0eb6d01b838/artifacts', status='READY', status_message='', tags={}, user_id='', version='13'>,\n",
       "  <ModelVersion: creation_timestamp=1647026753947, current_stage='Archived', description='', last_updated_timestamp=1647452759243, name='tree_model', run_id='d07c2eed5f494aeebcb396fe8af89d46', run_link='', source='/home/roldanx/code/tfm/mlruns/1/d07c2eed5f494aeebcb396fe8af89d46/artifacts', status='READY', status_message='', tags={}, user_id='', version='14'>,\n",
       "  <ModelVersion: creation_timestamp=1647452617138, current_stage='Production', description='', last_updated_timestamp=1647452767548, name='tree_model', run_id='6d633e4d3ef64fdeb563ecc10b64caac', run_link='', source='/home/roldanx/code/tfm/mlruns/1/6d633e4d3ef64fdeb563ecc10b64caac/artifacts', status='READY', status_message='', tags={}, user_id='', version='15'>], name='tree_model', tags={}>]"
      ]
     },
     "execution_count": 8,
     "metadata": {},
     "output_type": "execute_result"
    }
   ],
   "source": [
    "models=client.list_registered_models()\n",
    "models"
   ]
  },
  {
   "cell_type": "code",
   "execution_count": 9,
   "id": "f6eb3513-d917-478f-9e40-9edf7de52900",
   "metadata": {},
   "outputs": [
    {
     "ename": "SyntaxError",
     "evalue": "invalid syntax (<ipython-input-9-554728d92e5c>, line 1)",
     "output_type": "error",
     "traceback": [
      "\u001b[0;36m  File \u001b[0;32m\"<ipython-input-9-554728d92e5c>\"\u001b[0;36m, line \u001b[0;32m1\u001b[0m\n\u001b[0;31m    def load_tree_model:\u001b[0m\n\u001b[0m                       ^\u001b[0m\n\u001b[0;31mSyntaxError\u001b[0m\u001b[0;31m:\u001b[0m invalid syntax\n"
     ]
    }
   ],
   "source": [
    "def load_tree_model:\n",
    "    if client.get_latest_versions(name='tree_model', stages=['Production'])\n",
    "        print(\"Prod loaded\")\n",
    "    else\n",
    "        print(\"not loaded\")"
   ]
  },
  {
   "cell_type": "code",
   "execution_count": null,
   "id": "97c22bb4-2d31-444a-8087-9beae3a5353c",
   "metadata": {},
   "outputs": [],
   "source": [
    "def load_neural_network():\n",
    "    model_path = client.get_latest_versions(name='neural_network', stages=['None'])\n",
    "    if len(model_path) != 0:\n",
    "        return model_path\n",
    "    else:\n",
    "        print(\"not loaded\")\n",
    "    return model_path\n",
    "load_neural_network()"
   ]
  },
  {
   "cell_type": "code",
   "execution_count": null,
   "id": "1c3954ca-28fb-4742-9e92-ce0404c532bd",
   "metadata": {},
   "outputs": [],
   "source": [
    "models_schema = client.search_registered_models()\n",
    "models_schema"
   ]
  },
  {
   "cell_type": "code",
   "execution_count": null,
   "id": "ecdac3f0-980e-4db1-98f0-30e0d1119e54",
   "metadata": {},
   "outputs": [],
   "source": [
    "for j in models_schema[0].latest_versions:\n",
    "    tree_prod_path = j.source[j.current_stage == 'Production']\n",
    "tree_prod_path"
   ]
  },
  {
   "cell_type": "code",
   "execution_count": null,
   "id": "cc619f74-664c-4a92-880b-03d1457711fc",
   "metadata": {},
   "outputs": [],
   "source": []
  }
 ],
 "metadata": {
  "kernelspec": {
   "display_name": "Python 3",
   "language": "python",
   "name": "python3"
  },
  "language_info": {
   "codemirror_mode": {
    "name": "ipython",
    "version": 3
   },
   "file_extension": ".py",
   "mimetype": "text/x-python",
   "name": "python",
   "nbconvert_exporter": "python",
   "pygments_lexer": "ipython3",
   "version": "3.6.8"
  }
 },
 "nbformat": 4,
 "nbformat_minor": 5
}
