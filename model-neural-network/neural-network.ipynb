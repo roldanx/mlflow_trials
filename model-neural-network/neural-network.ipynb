{
 "cells": [
  {
   "cell_type": "markdown",
   "metadata": {},
   "source": [
    "# Titanic survival classification problem\n",
    "- Download titanic dataset.\n",
    "- Train a 2-layer NN with 5 neurons per layer (input/output apart) for 20 epochs and 64 batch size.\n",
    "- Save the model."
   ]
  },
  {
   "cell_type": "markdown",
   "metadata": {},
   "source": [
    "## DL model"
   ]
  },
  {
   "cell_type": "code",
   "execution_count": 1,
   "metadata": {
    "id": "a6HRX3PPd69L"
   },
   "outputs": [],
   "source": [
    "import mlflow\n",
    "import numpy as np\n",
    "import os\n",
    "import pandas as pd\n",
    "import seaborn as sns\n",
    "import sklearn.model_selection as ms\n",
    "\n",
    "from keras import regularizers\n",
    "from keras.layers import Input, Dense, Dropout\n",
    "from keras.models import Model\n",
    "from matplotlib import pyplot as plt\n",
    "from sklearn.metrics import roc_curve, roc_auc_score, precision_score, accuracy_score,recall_score, auc, confusion_matrix, ConfusionMatrixDisplay\n",
    "from sklearn.preprocessing import LabelEncoder\n",
    "from tensorflow.keras.optimizers import Adam"
   ]
  },
  {
   "cell_type": "code",
   "execution_count": 2,
   "metadata": {},
   "outputs": [
    {
     "data": {
      "text/html": [
       "<div>\n",
       "<style scoped>\n",
       "    .dataframe tbody tr th:only-of-type {\n",
       "        vertical-align: middle;\n",
       "    }\n",
       "\n",
       "    .dataframe tbody tr th {\n",
       "        vertical-align: top;\n",
       "    }\n",
       "\n",
       "    .dataframe thead th {\n",
       "        text-align: right;\n",
       "    }\n",
       "</style>\n",
       "<table border=\"1\" class=\"dataframe\">\n",
       "  <thead>\n",
       "    <tr style=\"text-align: right;\">\n",
       "      <th></th>\n",
       "      <th>survived</th>\n",
       "      <th>pclass</th>\n",
       "      <th>sex</th>\n",
       "      <th>age</th>\n",
       "      <th>sibsp</th>\n",
       "      <th>parch</th>\n",
       "      <th>fare</th>\n",
       "      <th>embarked</th>\n",
       "      <th>class</th>\n",
       "      <th>who</th>\n",
       "      <th>adult_male</th>\n",
       "      <th>deck</th>\n",
       "      <th>embark_town</th>\n",
       "      <th>alive</th>\n",
       "      <th>alone</th>\n",
       "    </tr>\n",
       "  </thead>\n",
       "  <tbody>\n",
       "    <tr>\n",
       "      <th>114</th>\n",
       "      <td>0</td>\n",
       "      <td>3</td>\n",
       "      <td>female</td>\n",
       "      <td>17.0</td>\n",
       "      <td>0</td>\n",
       "      <td>0</td>\n",
       "      <td>14.4583</td>\n",
       "      <td>C</td>\n",
       "      <td>Third</td>\n",
       "      <td>woman</td>\n",
       "      <td>False</td>\n",
       "      <td>NaN</td>\n",
       "      <td>Cherbourg</td>\n",
       "      <td>no</td>\n",
       "      <td>True</td>\n",
       "    </tr>\n",
       "    <tr>\n",
       "      <th>874</th>\n",
       "      <td>1</td>\n",
       "      <td>2</td>\n",
       "      <td>female</td>\n",
       "      <td>28.0</td>\n",
       "      <td>1</td>\n",
       "      <td>0</td>\n",
       "      <td>24.0000</td>\n",
       "      <td>C</td>\n",
       "      <td>Second</td>\n",
       "      <td>woman</td>\n",
       "      <td>False</td>\n",
       "      <td>NaN</td>\n",
       "      <td>Cherbourg</td>\n",
       "      <td>yes</td>\n",
       "      <td>False</td>\n",
       "    </tr>\n",
       "    <tr>\n",
       "      <th>76</th>\n",
       "      <td>0</td>\n",
       "      <td>3</td>\n",
       "      <td>male</td>\n",
       "      <td>NaN</td>\n",
       "      <td>0</td>\n",
       "      <td>0</td>\n",
       "      <td>7.8958</td>\n",
       "      <td>S</td>\n",
       "      <td>Third</td>\n",
       "      <td>man</td>\n",
       "      <td>True</td>\n",
       "      <td>NaN</td>\n",
       "      <td>Southampton</td>\n",
       "      <td>no</td>\n",
       "      <td>True</td>\n",
       "    </tr>\n",
       "    <tr>\n",
       "      <th>876</th>\n",
       "      <td>0</td>\n",
       "      <td>3</td>\n",
       "      <td>male</td>\n",
       "      <td>20.0</td>\n",
       "      <td>0</td>\n",
       "      <td>0</td>\n",
       "      <td>9.8458</td>\n",
       "      <td>S</td>\n",
       "      <td>Third</td>\n",
       "      <td>man</td>\n",
       "      <td>True</td>\n",
       "      <td>NaN</td>\n",
       "      <td>Southampton</td>\n",
       "      <td>no</td>\n",
       "      <td>True</td>\n",
       "    </tr>\n",
       "    <tr>\n",
       "      <th>674</th>\n",
       "      <td>0</td>\n",
       "      <td>2</td>\n",
       "      <td>male</td>\n",
       "      <td>NaN</td>\n",
       "      <td>0</td>\n",
       "      <td>0</td>\n",
       "      <td>0.0000</td>\n",
       "      <td>S</td>\n",
       "      <td>Second</td>\n",
       "      <td>man</td>\n",
       "      <td>True</td>\n",
       "      <td>NaN</td>\n",
       "      <td>Southampton</td>\n",
       "      <td>no</td>\n",
       "      <td>True</td>\n",
       "    </tr>\n",
       "  </tbody>\n",
       "</table>\n",
       "</div>"
      ],
      "text/plain": [
       "     survived  pclass     sex   age  sibsp  parch     fare embarked   class  \\\n",
       "114         0       3  female  17.0      0      0  14.4583        C   Third   \n",
       "874         1       2  female  28.0      1      0  24.0000        C  Second   \n",
       "76          0       3    male   NaN      0      0   7.8958        S   Third   \n",
       "876         0       3    male  20.0      0      0   9.8458        S   Third   \n",
       "674         0       2    male   NaN      0      0   0.0000        S  Second   \n",
       "\n",
       "       who  adult_male deck  embark_town alive  alone  \n",
       "114  woman       False  NaN    Cherbourg    no   True  \n",
       "874  woman       False  NaN    Cherbourg   yes  False  \n",
       "76     man        True  NaN  Southampton    no   True  \n",
       "876    man        True  NaN  Southampton    no   True  \n",
       "674    man        True  NaN  Southampton    no   True  "
      ]
     },
     "execution_count": 2,
     "metadata": {},
     "output_type": "execute_result"
    }
   ],
   "source": [
    "# data load\n",
    "dataset = sns.load_dataset(\"titanic\")\n",
    "dataframe, test_dataframe = ms.train_test_split(dataset, train_size=0.7, random_state=1)\n",
    "dataframe.head(5)"
   ]
  },
  {
   "cell_type": "code",
   "execution_count": 3,
   "metadata": {},
   "outputs": [],
   "source": [
    "dataframe = dataframe.astype({\"deck\": str})\n",
    "test_dataframe = test_dataframe.astype({\"deck\": str})"
   ]
  },
  {
   "cell_type": "code",
   "execution_count": 4,
   "metadata": {
    "colab": {
     "base_uri": "https://localhost:8080/",
     "height": 643
    },
    "id": "rBLQXDX3e52R",
    "outputId": "9583b219-3f54-4440-b39a-465526898d7c",
    "tags": []
   },
   "outputs": [
    {
     "data": {
      "text/html": [
       "<div>\n",
       "<style scoped>\n",
       "    .dataframe tbody tr th:only-of-type {\n",
       "        vertical-align: middle;\n",
       "    }\n",
       "\n",
       "    .dataframe tbody tr th {\n",
       "        vertical-align: top;\n",
       "    }\n",
       "\n",
       "    .dataframe thead th {\n",
       "        text-align: right;\n",
       "    }\n",
       "</style>\n",
       "<table border=\"1\" class=\"dataframe\">\n",
       "  <thead>\n",
       "    <tr style=\"text-align: right;\">\n",
       "      <th></th>\n",
       "      <th>sex</th>\n",
       "      <th>pclass</th>\n",
       "      <th>age</th>\n",
       "      <th>deck</th>\n",
       "    </tr>\n",
       "  </thead>\n",
       "  <tbody>\n",
       "    <tr>\n",
       "      <th>862</th>\n",
       "      <td>female</td>\n",
       "      <td>1</td>\n",
       "      <td>48.0</td>\n",
       "      <td>D</td>\n",
       "    </tr>\n",
       "    <tr>\n",
       "      <th>223</th>\n",
       "      <td>male</td>\n",
       "      <td>3</td>\n",
       "      <td>28.0</td>\n",
       "      <td>Z</td>\n",
       "    </tr>\n",
       "    <tr>\n",
       "      <th>84</th>\n",
       "      <td>female</td>\n",
       "      <td>2</td>\n",
       "      <td>17.0</td>\n",
       "      <td>Z</td>\n",
       "    </tr>\n",
       "    <tr>\n",
       "      <th>680</th>\n",
       "      <td>female</td>\n",
       "      <td>3</td>\n",
       "      <td>28.0</td>\n",
       "      <td>Z</td>\n",
       "    </tr>\n",
       "    <tr>\n",
       "      <th>535</th>\n",
       "      <td>female</td>\n",
       "      <td>2</td>\n",
       "      <td>7.0</td>\n",
       "      <td>Z</td>\n",
       "    </tr>\n",
       "    <tr>\n",
       "      <th>623</th>\n",
       "      <td>male</td>\n",
       "      <td>3</td>\n",
       "      <td>21.0</td>\n",
       "      <td>Z</td>\n",
       "    </tr>\n",
       "    <tr>\n",
       "      <th>148</th>\n",
       "      <td>male</td>\n",
       "      <td>2</td>\n",
       "      <td>36.5</td>\n",
       "      <td>F</td>\n",
       "    </tr>\n",
       "    <tr>\n",
       "      <th>3</th>\n",
       "      <td>female</td>\n",
       "      <td>1</td>\n",
       "      <td>35.0</td>\n",
       "      <td>C</td>\n",
       "    </tr>\n",
       "    <tr>\n",
       "      <th>34</th>\n",
       "      <td>male</td>\n",
       "      <td>1</td>\n",
       "      <td>28.0</td>\n",
       "      <td>Z</td>\n",
       "    </tr>\n",
       "    <tr>\n",
       "      <th>241</th>\n",
       "      <td>female</td>\n",
       "      <td>3</td>\n",
       "      <td>28.0</td>\n",
       "      <td>Z</td>\n",
       "    </tr>\n",
       "  </tbody>\n",
       "</table>\n",
       "</div>"
      ],
      "text/plain": [
       "        sex  pclass   age deck\n",
       "862  female       1  48.0    D\n",
       "223    male       3  28.0    Z\n",
       "84   female       2  17.0    Z\n",
       "680  female       3  28.0    Z\n",
       "535  female       2   7.0    Z\n",
       "623    male       3  21.0    Z\n",
       "148    male       2  36.5    F\n",
       "3    female       1  35.0    C\n",
       "34     male       1  28.0    Z\n",
       "241  female       3  28.0    Z"
      ]
     },
     "execution_count": 4,
     "metadata": {},
     "output_type": "execute_result"
    }
   ],
   "source": [
    "# data processing\n",
    "for i in dataframe.index:\n",
    "    if dataframe['deck'][i] == 'nan':\n",
    "        dataframe.loc[i,'deck'] = 'Z'\n",
    "\n",
    "for i in test_dataframe.index:\n",
    "    if test_dataframe['deck'][i] == 'nan':\n",
    "        test_dataframe.loc[i,'deck'] = 'Z'\n",
    "\n",
    "train_median = dataframe['age'].median()\n",
    "for i in dataframe.index:\n",
    "    if dataframe['age'][i] != dataframe['age'][i]:\n",
    "        dataframe.loc[i,'age'] = train_median\n",
    "\n",
    "train_median = test_dataframe['age'].median()\n",
    "for i in test_dataframe.index:\n",
    "    if test_dataframe['age'][i] != test_dataframe['age'][i]:\n",
    "        test_dataframe.loc[i,'age'] = train_median\n",
    "\n",
    "X = dataframe[['sex', 'pclass', 'age', 'deck']]\n",
    "y = dataframe[['alive']]\n",
    "X_ts = test_dataframe[['sex', 'pclass', 'age', 'deck']]\n",
    "y_ts = test_dataframe[['alive']]\n",
    "X_ts.head(10)"
   ]
  },
  {
   "cell_type": "code",
   "execution_count": 5,
   "metadata": {
    "colab": {
     "base_uri": "https://localhost:8080/",
     "height": 243
    },
    "id": "HByq3PZau4yA",
    "outputId": "a965de61-e7c8-4180-935f-9e7d741bbf55"
   },
   "outputs": [
    {
     "name": "stdout",
     "output_type": "stream",
     "text": [
      "Age normalization --> [29.81099518459069, 13.283963797935623]\n"
     ]
    },
    {
     "name": "stderr",
     "output_type": "stream",
     "text": [
      "/home/roldanx/.local/lib/python3.6/site-packages/pandas/core/indexing.py:1743: SettingWithCopyWarning: \n",
      "A value is trying to be set on a copy of a slice from a DataFrame.\n",
      "Try using .loc[row_indexer,col_indexer] = value instead\n",
      "\n",
      "See the caveats in the documentation: https://pandas.pydata.org/pandas-docs/stable/user_guide/indexing.html#returning-a-view-versus-a-copy\n",
      "  isetter(ilocs[0], value)\n"
     ]
    }
   ],
   "source": [
    "# normalization\n",
    "normalization = [X.loc[:, 'age'].mean(), X.loc[:, 'age'].std()]\n",
    "print(\"Age normalization --> \" + str(normalization))\n",
    "\n",
    "X.loc[:, 'age'] = (X.loc[:, 'age'] - normalization[0]) / normalization[1]\n",
    "X_ts.loc[:, 'age'] = (X_ts.loc[:, 'age'] - normalization[0]) / normalization[1]\n",
    "\n",
    "X_dum = pd.get_dummies(X)\n",
    "X_ts_dum = pd.get_dummies(X_ts)"
   ]
  },
  {
   "cell_type": "code",
   "execution_count": 6,
   "metadata": {
    "colab": {
     "base_uri": "https://localhost:8080/"
    },
    "id": "y0mpaCD7F2oU",
    "outputId": "9f0ff756-73d7-44f5-e426-8a499d898eb5"
   },
   "outputs": [],
   "source": [
    "# dummification\n",
    "label_encoder = LabelEncoder()\n",
    "integer_encoded = label_encoder.fit_transform(y.values.ravel())\n",
    "y = integer_encoded.reshape(len(integer_encoded), 1)\n",
    "integer_encoded_ts = label_encoder.fit_transform(y_ts.values.ravel())\n",
    "y_ts = integer_encoded_ts.reshape(len(integer_encoded_ts), 1)"
   ]
  },
  {
   "cell_type": "code",
   "execution_count": 7,
   "metadata": {
    "colab": {
     "base_uri": "https://localhost:8080/"
    },
    "id": "6__EfUNR2S33",
    "outputId": "9ecbb7eb-29fc-4569-d8ae-c3c39819949e"
   },
   "outputs": [
    {
     "name": "stdout",
     "output_type": "stream",
     "text": [
      "Model: \"model\"\n",
      "_________________________________________________________________\n",
      "Layer (type)                 Output Shape              Param #   \n",
      "=================================================================\n",
      "input_1 (InputLayer)         [(None, 12)]              0         \n",
      "_________________________________________________________________\n",
      "dense (Dense)                (None, 5)                 65        \n",
      "_________________________________________________________________\n",
      "dense_1 (Dense)              (None, 5)                 30        \n",
      "_________________________________________________________________\n",
      "dense_2 (Dense)              (None, 1)                 6         \n",
      "=================================================================\n",
      "Total params: 101\n",
      "Trainable params: 101\n",
      "Non-trainable params: 0\n",
      "_________________________________________________________________\n"
     ]
    }
   ],
   "source": [
    "opt = Adam(learning_rate=0.01)\n",
    "\n",
    "# model definition\n",
    "input = Input(len(X_dum.columns))\n",
    "layer_1 = Dense(5, activation='relu')(input)\n",
    "layer_2 = Dense(5, activation='relu')(layer_1)\n",
    "output = Dense(1, activation='sigmoid')(layer_2)\n",
    "\n",
    "model = Model(input, output)\n",
    "model.compile(loss='binary_crossentropy',\n",
    "          optimizer=opt,\n",
    "          metrics=['accuracy'])\n",
    "model.summary()"
   ]
  },
  {
   "cell_type": "code",
   "execution_count": 8,
   "metadata": {
    "colab": {
     "base_uri": "https://localhost:8080/"
    },
    "id": "m_RSOAGo-JXG",
    "outputId": "eebb7f41-dba0-4754-f8e2-cb1d92026dec"
   },
   "outputs": [
    {
     "name": "stdout",
     "output_type": "stream",
     "text": [
      "Epoch 1/5\n",
      "9/9 [==============================] - 2s 49ms/step - loss: 0.6226 - accuracy: 0.6500 - val_loss: 0.5287 - val_accuracy: 0.7302\n",
      "Epoch 2/5\n",
      "9/9 [==============================] - 0s 9ms/step - loss: 0.5722 - accuracy: 0.7000 - val_loss: 0.4675 - val_accuracy: 0.7619\n",
      "Epoch 3/5\n",
      "9/9 [==============================] - 0s 15ms/step - loss: 0.5201 - accuracy: 0.7607 - val_loss: 0.4453 - val_accuracy: 0.8571\n",
      "Epoch 4/5\n",
      "9/9 [==============================] - 0s 17ms/step - loss: 0.4832 - accuracy: 0.8179 - val_loss: 0.4221 - val_accuracy: 0.8254\n",
      "Epoch 5/5\n",
      "9/9 [==============================] - 0s 11ms/step - loss: 0.4574 - accuracy: 0.8357 - val_loss: 0.4582 - val_accuracy: 0.7143\n"
     ]
    }
   ],
   "source": [
    "hist=model.fit(X_dum, \n",
    "               y,\n",
    "               batch_size=64,\n",
    "               epochs=5,\n",
    "               validation_split=0.1,\n",
    "               shuffle=True)"
   ]
  },
  {
   "cell_type": "code",
   "execution_count": 9,
   "metadata": {},
   "outputs": [],
   "source": [
    "# model.save(\"titanic_DeepLearn_model\")"
   ]
  },
  {
   "cell_type": "code",
   "execution_count": 10,
   "metadata": {},
   "outputs": [
    {
     "data": {
      "text/plain": [
       "dict_keys(['loss', 'accuracy', 'val_loss', 'val_accuracy'])"
      ]
     },
     "execution_count": 10,
     "metadata": {},
     "output_type": "execute_result"
    }
   ],
   "source": [
    "hist.history.keys()"
   ]
  },
  {
   "cell_type": "code",
   "execution_count": 11,
   "metadata": {},
   "outputs": [
    {
     "name": "stdout",
     "output_type": "stream",
     "text": [
      "Max ROC:\n",
      "0.8025291275930662\n"
     ]
    }
   ],
   "source": [
    "probabilities = model.predict(X_ts_dum)\n",
    "fpr, tpr, _ = roc_curve(y_ts, probabilities)\n",
    "auc = auc(fpr, tpr)\n",
    "print(\"Max ROC:\")\n",
    "print(auc)"
   ]
  },
  {
   "cell_type": "code",
   "execution_count": 12,
   "metadata": {},
   "outputs": [
    {
     "name": "stdout",
     "output_type": "stream",
     "text": [
      "INFO:tensorflow:Assets written to: /tmp/tmprhlrrv0l/model/data/model/assets\n"
     ]
    },
    {
     "name": "stderr",
     "output_type": "stream",
     "text": [
      "Successfully registered model 'neural_network'.\n",
      "2022/02/14 19:29:58 INFO mlflow.tracking._model_registry.client: Waiting up to 300 seconds for model version to finish creation.                     Model name: neural_network, version 1\n",
      "Created version '1' of model 'neural_network'.\n"
     ]
    }
   ],
   "source": [
    "# register the classifier\n",
    "os.environ['MLFLOW_TRACKING_URI'] = 'http://localhost:8000/'\n",
    "mlflow.set_experiment('NeuralNetwork')\n",
    "\n",
    "with mlflow.start_run(run_name='forest_gump'):\n",
    "    mlflow.log_metric(\"auc\", auc)\n",
    "    mlflow.keras.log_model(keras_model=model, artifact_path='', registered_model_name='neural_network')"
   ]
  },
  {
   "cell_type": "code",
   "execution_count": 13,
   "metadata": {},
   "outputs": [],
   "source": [
    "predictions = np.where(probabilities > .5, 1, 0)\n",
    "cm = confusion_matrix(y_true=y_ts, y_pred=predictions)"
   ]
  },
  {
   "cell_type": "code",
   "execution_count": 14,
   "metadata": {},
   "outputs": [
    {
     "data": {
      "text/plain": [
       "<sklearn.metrics._plot.confusion_matrix.ConfusionMatrixDisplay at 0x7f577403aa90>"
      ]
     },
     "execution_count": 14,
     "metadata": {},
     "output_type": "execute_result"
    },
    {
     "data": {
      "image/png": "[encoded data removed]",
      "text/plain": [
       "<Figure size 432x288 with 2 Axes>"
      ]
     },
     "metadata": {
      "needs_background": "light"
     },
     "output_type": "display_data"
    }
   ],
   "source": [
    "labels = ['Survivor', 'Dead']\n",
    "disp = ConfusionMatrixDisplay(confusion_matrix=cm, display_labels=labels)\n",
    "disp.plot()"
   ]
  },
  {
   "cell_type": "code",
   "execution_count": 15,
   "metadata": {},
   "outputs": [
    {
     "data": {
      "image/png": "[encoded data removed]",
      "text/plain": [
       "<Figure size 432x288 with 1 Axes>"
      ]
     },
     "metadata": {
      "needs_background": "light"
     },
     "output_type": "display_data"
    },
    {
     "data": {
      "image/png": "[encoded data removed]",
      "text/plain": [
       "<Figure size 432x288 with 1 Axes>"
      ]
     },
     "metadata": {
      "needs_background": "light"
     },
     "output_type": "display_data"
    }
   ],
   "source": [
    "def plot_curves(history):\n",
    "  plt.figure()\n",
    "  plt.xlabel('Épocas')\n",
    "  plt.ylabel('Error')\n",
    "  plt.plot(history['loss'])\n",
    "  plt.plot(history['val_loss'])\n",
    "  plt.legend(['Entrenamiento', 'Validación'])\n",
    "\n",
    "  plt.figure()\n",
    "  plt.xlabel('Épocas')\n",
    "  plt.ylabel('Accuracy')\n",
    "  plt.plot(history['accuracy'])\n",
    "  plt.plot(history['val_accuracy'])\n",
    "  plt.legend(['Entrenamiento', 'Validación'], loc='lower right')\n",
    "\n",
    "plot_curves(hist.history)"
   ]
  },
  {
   "cell_type": "code",
   "execution_count": 16,
   "metadata": {},
   "outputs": [
    {
     "data": {
      "image/png": "[encoded data removed]",
      "text/plain": [
       "<Figure size 432x288 with 1 Axes>"
      ]
     },
     "metadata": {
      "needs_background": "light"
     },
     "output_type": "display_data"
    }
   ],
   "source": [
    "plt.figure()\n",
    "plt.plot(fpr, tpr, label='ROC curve (area = %0.2f)' % auc)\n",
    "plt.plot([0, 1], [0, 1], linestyle='--')\n",
    "plt.xlim([0.0, 1.0])\n",
    "plt.ylim([0.0, 1.05])\n",
    "plt.xlabel('False Positive Rate')\n",
    "plt.ylabel('True Positive Rate')\n",
    "plt.title('Receiver operating characteristic example')\n",
    "plt.legend(loc=\"lower right\")\n",
    "plt.show()"
   ]
  }
 ],
 "metadata": {
  "colab": {
   "collapsed_sections": [],
   "name": "Te damos la bienvenida a Colaboratory",
   "provenance": [],
   "toc_visible": true
  },
  "kernelspec": {
   "display_name": "Python 3",
   "language": "python",
   "name": "python3"
  },
  "language_info": {
   "codemirror_mode": {
    "name": "ipython",
    "version": 3
   },
   "file_extension": ".py",
   "mimetype": "text/x-python",
   "name": "python",
   "nbconvert_exporter": "python",
   "pygments_lexer": "ipython3",
   "version": "3.6.8"
  }
 },
 "nbformat": 4,
 "nbformat_minor": 4
}
